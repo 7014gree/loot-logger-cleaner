{
 "cells": [
  {
   "attachments": {},
   "cell_type": "markdown",
   "metadata": {},
   "source": [
    "# Notebook used for development"
   ]
  },
  {
   "cell_type": "code",
   "execution_count": 15,
   "metadata": {},
   "outputs": [],
   "source": [
    "import os\n",
    "import json\n",
    "from datetime import datetime"
   ]
  },
  {
   "cell_type": "code",
   "execution_count": 50,
   "metadata": {},
   "outputs": [],
   "source": [
    "with open('alchemical hydra.log', 'r') as f:\n",
    "    read_data = f.readline()\n",
    "    data = json.loads(read_data)\n"
   ]
  },
  {
   "cell_type": "code",
   "execution_count": 52,
   "metadata": {},
   "outputs": [
    {
     "data": {
      "text/plain": [
       "dict"
      ]
     },
     "execution_count": 52,
     "metadata": {},
     "output_type": "execute_result"
    }
   ],
   "source": [
    "type(data)"
   ]
  },
  {
   "cell_type": "code",
   "execution_count": 41,
   "metadata": {},
   "outputs": [
    {
     "data": {
      "text/plain": [
       "'Feb 4, 2022, 2:01:14 AM'"
      ]
     },
     "execution_count": 41,
     "metadata": {},
     "output_type": "execute_result"
    }
   ],
   "source": [
    "datestr = data['date']\n",
    "datestr"
   ]
  },
  {
   "cell_type": "code",
   "execution_count": 35,
   "metadata": {},
   "outputs": [
    {
     "data": {
      "text/plain": [
       "datetime.datetime(2022, 2, 4, 2, 1, 14)"
      ]
     },
     "execution_count": 35,
     "metadata": {},
     "output_type": "execute_result"
    }
   ],
   "source": [
    "datetime_date = datetime.strptime(datestr, '%b %d, %Y, %H:%M:%S %p')\n",
    "datetime_date"
   ]
  },
  {
   "cell_type": "code",
   "execution_count": 46,
   "metadata": {},
   "outputs": [],
   "source": [
    "start_date = datetime(2022, 1, 19, 0, 0)\n",
    "end_date = datetime(2022, 3, 16, 23, 59)"
   ]
  },
  {
   "cell_type": "code",
   "execution_count": 47,
   "metadata": {},
   "outputs": [
    {
     "data": {
      "text/plain": [
       "True"
      ]
     },
     "execution_count": 47,
     "metadata": {},
     "output_type": "execute_result"
    }
   ],
   "source": [
    "start_date < datetime_date < end_date"
   ]
  },
  {
   "cell_type": "code",
   "execution_count": 58,
   "metadata": {},
   "outputs": [],
   "source": [
    "def convert_to_datetime(date_string: str) -> datetime:\n",
    "    return datetime.strptime(date_string, '%b %d, %Y, %H:%M:%S %p')"
   ]
  },
  {
   "cell_type": "code",
   "execution_count": 60,
   "metadata": {},
   "outputs": [],
   "source": [
    "non_leagues_list = []\n",
    "leagues_list = []\n",
    "\n",
    "with open('alchemical hydra.log', 'r') as read_file:\n",
    "    for line in read_file:\n",
    "        json_data = json.loads(line)\n",
    "        if start_date < convert_to_datetime(json_data['date']) < end_date:\n",
    "            leagues_list.append(json_data)\n",
    "        else:\n",
    "            non_leagues_list.append(json_data)"
   ]
  },
  {
   "cell_type": "code",
   "execution_count": 64,
   "metadata": {},
   "outputs": [],
   "source": [
    "with open('alchemical hydra-leagues.log', 'w') as write_file:\n",
    "    for entry in leagues_list:\n",
    "        write_file.write(f\"{str(entry)}\\n\")"
   ]
  },
  {
   "cell_type": "code",
   "execution_count": 66,
   "metadata": {},
   "outputs": [
    {
     "data": {
      "text/plain": [
       "['.git',\n",
       " '.gitignore',\n",
       " '.venv',\n",
       " 'alchemical hydra-leagues.log',\n",
       " 'alchemical hydra.log',\n",
       " 'README.md',\n",
       " 'requirements.txt',\n",
       " 'script.py',\n",
       " 'script_dev.ipynb',\n",
       " 'venv']"
      ]
     },
     "execution_count": 66,
     "metadata": {},
     "output_type": "execute_result"
    }
   ],
   "source": [
    "os.listdir()"
   ]
  }
 ],
 "metadata": {
  "kernelspec": {
   "display_name": "venv",
   "language": "python",
   "name": "python3"
  },
  "language_info": {
   "codemirror_mode": {
    "name": "ipython",
    "version": 3
   },
   "file_extension": ".py",
   "mimetype": "text/x-python",
   "name": "python",
   "nbconvert_exporter": "python",
   "pygments_lexer": "ipython3",
   "version": "3.9.5"
  },
  "orig_nbformat": 4
 },
 "nbformat": 4,
 "nbformat_minor": 2
}
